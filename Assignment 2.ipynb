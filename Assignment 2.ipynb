{
 "cells": [
  {
   "cell_type": "markdown",
   "metadata": {},
   "source": [
    "# Assignment 2 - EDS\n",
    "\n",
    "### Portfolio Optimization to maximize the idiosyncratic risk\n",
    "\n",
    "A client that uses a factor model for their risk calculations wants us to develop a portfolio optimizer that maximizes their idiosyncratic risk. They want to specify a maximum amount of trading, a maximum overall volatility, and a maximum (idiosyncratic risk as a % of total idiosyncratic risk) for any individual ticker. Please write out the problem statement as a series of matrix inequalities.\n",
    "\n",
    "**Assumptions and Variables** - Let $W$ be a matrix with each term in $W$ representing the amount invested in corresponding instrument. Also, let $\\Sigma$ represent the variance-covariance matrix between all the underlying instruments. Based on our given constraints, let the maximum amount of trading be $c$ and the maximum overall volatility be $\\sigma_t$. \n",
    "\n",
    "Now let's define a factor model similar to CAPM (by ignoring the $\\alpha$), the factor model can be described as -\n",
    "\n",
    "$$R_p - r_f = \\beta'\\cdot(R_F - r_f) + \\epsilon$$\n",
    "\n",
    "where $R_p$ is the return of the portfolio, $r_f$ is the risk free return in the market, $R_F$ is the return for the fators and $\\beta$ denotes the factor loadings. All these are represented in vectors and matrices format.\n",
    "As an expression for the idiosyncratic risk (non systematic risk), the model above uses the standard deviation of the residuals $\\epsilon$ - this is defined as $\\sigma_\\epsilon$ where -\n",
    "\n",
    "$$\\sigma_\\epsilon^2 = \\sigma_p^2 - \\beta^2\\sigma_F^2$$\n",
    "\n",
    "This is the total idiosyncrtatic risk, where -\n",
    "\n",
    "$$\\sigma_p^2 = W^T\\Sigma W$$\n",
    "\n",
    "$$\\beta = W^T\\beta_i$$\n",
    "\n",
    "And, the idiosyncratic risk for any one instrument is $\\sigma_i$, where\n",
    "\n",
    "$$\\sigma_{\\epsilon_i}^2 = \\sigma_i^2 - \\beta_i^2\\sigma_F^2$$\n",
    "\n",
    "Let the maximum idiosyncratic risk as a % of total idiosyncratic risk for any individual ticker be $r_{max} \\cdot 100$ % \n",
    "\n",
    "So our problem statement can be written as -\n",
    "\n",
    "\\begin{equation}\n",
    "\\begin{array}{rrclcl}\n",
    "\\displaystyle \\max_{W} & {W^T\\Sigma W - W^T\\beta_i\\sigma_F^2} \\\\\n",
    "\\textrm{s.t.} & W^T\\Sigma W & \\leq & \\sigma_t^2 \\\\\n",
    "& 1^T\\cdot |W|  & \\leq & c \\\\\n",
    "& \\frac{\\sigma_{\\epsilon_i}}{\\sigma_\\epsilon} & \\leq & r_{max} & \\forall i \\\\ \n",
    "\\end{array}\n",
    "\\end{equation}"
   ]
  }
 ],
 "metadata": {
  "kernelspec": {
   "display_name": "Python 3",
   "language": "python",
   "name": "python3"
  },
  "language_info": {
   "codemirror_mode": {
    "name": "ipython",
    "version": 3
   },
   "file_extension": ".py",
   "mimetype": "text/x-python",
   "name": "python",
   "nbconvert_exporter": "python",
   "pygments_lexer": "ipython3",
   "version": "3.7.6"
  }
 },
 "nbformat": 4,
 "nbformat_minor": 4
}
